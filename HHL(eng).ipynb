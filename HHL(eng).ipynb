{
 "cells": [
  {
   "cell_type": "markdown",
   "id": "206b8a69-7cc4-44eb-89bd-848bd21368ba",
   "metadata": {},
   "source": [
    "# Solving Linear Systems with the HHL Quantum Algorithm: A Theoretical-Practical Tutorial"
   ]
  },
  {
   "cell_type": "markdown",
   "id": "a2fb7b41-6619-447c-8646-6599eceb99a1",
   "metadata": {},
   "source": [
    "## State Preparation"
   ]
  },
  {
   "cell_type": "markdown",
   "id": "f973de5f-dadf-47cb-935d-524151aa8e4a",
   "metadata": {},
   "source": [
    "The first step in initializing any quantum algorithm is importing the necessary libraries for constructing and executing the circuit. These operations can be visualized in the box below."
   ]
  },
  {
   "cell_type": "code",
   "execution_count": null,
   "id": "09cdd179-7c6b-4e1c-9235-ed7279f792df",
   "metadata": {},
   "outputs": [],
   "source": [
    "from qiskit import QuantumRegister,␣\n",
    ",→QuantumCircuit, ClassicalRegister,␣\n",
    ",→transpile\n",
    "from qiskit_aer import AerSimulator\n",
    "from qiskit.visualization import␣\n",
    ",→plot_bloch_multivector, plot_distribution\n",
    "from qiskit.circuit.library import␣\n",
    ",→UnitaryGate\n",
    "import matplotlib.pyplot as plt\n",
    "import numpy as np\n",
    "from scipy.linalg import expm"
   ]
  },
  {
   "cell_type": "markdown",
   "id": "8da000b5-d288-4c5a-b17f-1bc7b48c003f",
   "metadata": {},
   "source": [
    "Next, it is necessary to declare the registers to be used in the circuit according to the general overview presented in the previous section. For the $q-c\\ket{0}^{\\otimes n}$, we use $n = 2$ qubits, while for $q-b\\ket{0}_b$ and $q-a\\ket{0}$, we use $1$ qubit each, resulting in a total of $4$ qubits. Since the measurements are performed on $q-a\\ket{0}$ and $q-b\\ket{0}_b$, we use $n_c=2$ classical bits for measurement."
   ]
  },
  {
   "cell_type": "code",
   "execution_count": null,
   "id": "bd82a86a-e34b-48a4-9565-81a88e8e5f19",
   "metadata": {},
   "outputs": [],
   "source": [
    "nc = 2\n",
    "clock = 2\n",
    "ancilla = 1\n",
    "qr_clock1 = QuantumRegister(1, 'clock_1')\n",
    "qr_clock2 = QuantumRegister(1, 'clock_2')\n",
    "qr_b = QuantumRegister(1, 'b')\n",
    "qr_ancilla = QuantumRegister(ancilla,␣\n",
    ",→'ancilla')\n",
    "cl = ClassicalRegister(nc, 'cl')\n",
    "qc = QuantumCircuit(qr_ancilla, qr_clock1,␣\n",
    ",→qr_clock2, qr_b, cl)"
   ]
  },
  {
   "cell_type": "markdown",
   "id": "b7f47ffb-a23d-4cf5-8ae8-efb94fe5e1e1",
   "metadata": {},
   "source": [
    "Once the algorithm has been correctly initialized, the state preparation is performed by applying a quantum operator that transforms $\\ket{0}_b = (1 \\ \\ \\ 0)^T$ into the state $\\ket{1}_b = (0 \\ \\ \\ 1)^T$. This can be done simply by applying the $X$ logic gate:\n",
    "\n",
    "\\begin{equation}\n",
    "    X \\ket{0}_b = \\ket{1}_b = \\ket{b}\n",
    "\\end{equation}\n",
    "\n",
    "We then obtain:\n",
    "\n",
    "\\begin{equation}\n",
    "    \\ket{\\varphi_1} = \\ket{1} \\ket{00} \\ket{0}_{a}\n",
    "\\end{equation}\n",
    "\n",
    "In the algorithm, this operation is performed by specifying the gate and the desired qubits, as shown in the box below."
   ]
  },
  {
   "cell_type": "code",
   "execution_count": null,
   "id": "050ed270-0121-4326-878a-76c901095d8a",
   "metadata": {},
   "outputs": [],
   "source": [
    "qc.x(qr_b)\n",
    "qc.barrier()"
   ]
  },
  {
   "cell_type": "markdown",
   "id": "edee2947-06c8-4eea-86c0-75108d92b272",
   "metadata": {},
   "source": [
    "It is worth noting that, at the end of each routine, we apply a barrier in the circuit to make it more organized."
   ]
  },
  {
   "cell_type": "markdown",
   "id": "d11aac43-2cd7-4f2f-acf7-725a4996d649",
   "metadata": {},
   "source": [
    "## Quantum Phase Estimation"
   ]
  },
  {
   "cell_type": "markdown",
   "id": "e1ade199-923c-4c2f-a8f4-e605eba0c252",
   "metadata": {},
   "source": [
    "At this point, the QPE routine is applied to the quantum circuit, starting with a uniformly distributed superposition in the clock qubits using the Hadamard gate:"
   ]
  },
  {
   "cell_type": "code",
   "execution_count": null,
   "id": "a385d565-731a-4964-985d-3d76a958a6c0",
   "metadata": {},
   "outputs": [],
   "source": [
    "qc.h(qr_clock1)\n",
    "qc.h(qr_clock2)\n",
    "qc.barrier()"
   ]
  },
  {
   "cell_type": "markdown",
   "id": "6db3cc04-481a-4d6e-8fb4-c78806d3adfe",
   "metadata": {},
   "source": [
    "Before applying the controlled unitary, we perform a basis change to the eigenvector basis of $A$. Given that $\\ket{1}=\\frac{1}{\\sqrt{2}}(-\\ket{u_1}+\\ket{u_2})$, we have $b_1=-\\frac{1}{\\sqrt{2}}$ and $b_2=\\frac{1}{\\sqrt{2}}$. Thus:\n",
    "\n",
    "\\begin{equation}\n",
    "    \\begin{split}\n",
    "        \\ket{\\varphi_2} &= \\ket{1} \\frac{1}{2}(\\ket{00} + \\ket{01} + \\ket{10} + \\ket{11})\\ket{0}_{a} \\\\\n",
    "        \\ket{\\varphi_2} &= \\frac{1}{\\sqrt{2}}(-\\ket{u_1}\\ket{00}-\\ket{u_1}\\ket{01}-\\ket{u_1}\\ket{10}-\\ket{u_1}\\ket{11} \\\\\n",
    "        &+\\ket{u_2}\\ket{00}+\\ket{u_2}\\ket{01}+\\ket{u_2}\\ket{10}+\\ket{u_2}\\ket{11})\n",
    "    \\end{split}\n",
    "\\end{equation}\n",
    "\n",
    "The next step is the application of the operator $e^{iAt}$ considering\n",
    "\n",
    "\\begin{equation} \\label{eq:seq_U}\n",
    "    U^l \\ket{b} = UUU \\dots U \\ket{b}= \\left( e^{2 \\pi i \\theta}\\right)^l \\ket{b} = e^{2 \\pi i \\theta \\cdot l} \\ket{b}\n",
    "\\end{equation}\n",
    "\n",
    "where each clock qubit controls a part of the time evolution. To achieve this, we use controlled logic gates so that the rotations are chosen based on the spectral decomposition of matrix $A$, whose transformation matrix is written as\n",
    "\n",
    "\\begin{equation}\n",
    "    V = \\begin{pmatrix}\n",
    "\\frac{1}{\\sqrt{2}} &  \\frac{1}{\\sqrt{2}} \\\\\n",
    "-\\frac{1}{\\sqrt{2}} &  \\frac{1}{\\sqrt{2}}\\\\\n",
    "\\end{pmatrix}\n",
    "\\end{equation}\n",
    "\n",
    "In this context, the operator $U$ must have its diagonal representation defined as\n",
    "\n",
    "\\begin{equation} \\label{eq:U_d}\n",
    "    U_{D} = \\begin{pmatrix}\n",
    "    e^{i\\lambda_1t} & 0 \\\\\n",
    "    0 &  e^{i\\lambda_2t}\\\\\n",
    "\\end{pmatrix}\n",
    "\\end{equation}\n",
    "\n",
    "Note that the condition for the operator $\\tilde \\lambda_j = \\tilde N\\lambda_jt/2\\pi$ to be an integer is satisfied for certain values of $t$. Choosing $t = \\pi/2$, we obtain ${\\tilde \\lambda_1 = \\lambda_1 =  1, \\tilde \\lambda_2 = \\lambda_2 =2 }$, knowing that the diagonal representation of $U$ is given by\n",
    "\n",
    "\\begin{equation}\n",
    "    U_{D} = \\begin{pmatrix}\n",
    "    e^{i\\lambda_1t} & 0 \\\\\n",
    "    0 &  e^{i\\lambda_2t}\\\\\n",
    "\\end{pmatrix}\n",
    "\\end{equation}\n",
    "\n",
    "which will then be rewritten as\n",
    "\n",
    "\\begin{equation}\n",
    "    U_{d} = \\begin{pmatrix}\n",
    "    i & 0 \\\\\n",
    "    0 &  -1\\\\\n",
    "    \\end{pmatrix}\n",
    "\\end{equation}\n",
    "\n",
    "Finally, we can write $U$ in the basis of $A$ using the transformation matrix $U = VU_dV^{-1}$, resulting in\n",
    "\n",
    "\\begin{equation} \\label{eq:1}\n",
    "    U = \\frac{1}{2}\\begin{pmatrix}\n",
    "    -1 + i & 1+i \\\\\n",
    "    1+i &  -1+i\\\\\n",
    "    \\end{pmatrix}\n",
    "\\end{equation}\n",
    "\n",
    "The process of obtaining higher-order unitary operators is thus reduced to $U^l = VU_d^lV^{-1}$. For $n=2$ c-qubits, $l=2$ is sufficient to provide an acceptable precision for the algorithm, so that $U^2$ is then written as\n",
    "\n",
    "\\begin{equation}\n",
    "    U^2 = \\begin{pmatrix}\n",
    "    0 & -1 \\\\\n",
    "    -1 &  0\\\\\n",
    "    \\end{pmatrix}\n",
    "\\end{equation}\n",
    "\n",
    "\n",
    "In the simulation, the application of this operator can be considered by mapping the necessary angles for its implementation. A direct option for preparing unitary operators is the logic gate\n",
    "\n",
    "\\begin{equation}\n",
    "U(\\theta, \\phi, \\gamma, \\lambda) =\n",
    "\\begin{pmatrix}\n",
    "e^{i\\gamma} \\cos(\\theta/2) & -e^{i(\\gamma + \\lambda)} \\cos(\\theta/2) \\\\\n",
    "e^{i(\\gamma + \\phi)} \\cos(\\theta/2) & e^{i(\\gamma + \\phi + \\lambda)} \\cos(\\theta/2)\n",
    "\\end{pmatrix}.\n",
    "\\end{equation}\n",
    "\n",
    "Setting $\\theta = \\pi/2, \\phi = -\\pi/2, \\gamma = 3\\pi/4, \\lambda=\\pi/2$, we verify the correspondence with the operator $U$ defined in the form of $U$ in the basis of $A$. For $\\theta = \\pi, \\phi = \\pi, \\gamma = 0, \\lambda=0$, we then obtain $U^2$. Thus, the application of these operators in the circuit reduces to adding angles in the circuit through the controlled version of the $U(\\theta, \\phi, \\gamma, \\lambda)$ gate, as shown in the box below."
   ]
  },
  {
   "cell_type": "code",
   "execution_count": null,
   "id": "b7900a5f-dcdd-4038-823f-3fb6a38786f6",
   "metadata": {},
   "outputs": [],
   "source": [
    "qc.cu(np.pi/2, -np.pi/2, np.pi/2, 3*np.pi/4,␣\n",
    ",→qr_clock1, qr_b[0])\n",
    "qc.cu(np.pi, np.pi, 0, 0, qr_clock2, qr_b[0])\n",
    "qc.barrier()"
   ]
  },
  {
   "cell_type": "markdown",
   "id": "8bea6ebe-71ed-419b-9d8c-d8314db59b25",
   "metadata": {},
   "source": [
    "After applying the controlled unitary operations, the state is then written as\n",
    "\n",
    "\\begin{equation}\n",
    "    \\begin{split}\n",
    "        \\ket{\\varphi_3} &=  \\frac{1}{2\\sqrt{2}}(-\\ket{u_1}\\ket{00} - i\\ket{u_1}\\ket{01} + \\ket{u_1}\\ket{10} + i\\ket{u_1}\\ket{11} \\\\\n",
    "        &+\\ket{u_2}\\ket{00} - \\ket{u_2}\\ket{01} + \\ket{u_2}\\ket{10} - \\ket{u_2}\\ket{11}) \\ket{0}_a\n",
    "    \\end{split}\n",
    "\\end{equation}\n",
    "\n",
    "Next, we apply the \\textit{Inverse Quantum Fourier Transform}, which is responsible for converting the Fourier basis into the computational basis. The corresponding code can be seen in the box below."
   ]
  },
  {
   "cell_type": "code",
   "execution_count": null,
   "id": "c9444170-fc57-40a5-8bd7-1ca3bbe1e5b8",
   "metadata": {},
   "outputs": [],
   "source": [
    "qc.h(qr_clock2)\n",
    "qc.cp(-np.pi/2, qr_clock1, qr_clock2)\n",
    "qc.h(qr_clock1)\n",
    "qc.swap(qr_clock1, qr_clock2)\n",
    "qc.barrier()"
   ]
  },
  {
   "cell_type": "markdown",
   "id": "3d97c155-f57d-43f7-b458-cd494c1dd4cb",
   "metadata": {},
   "source": [
    "After applying $QFT^{\\dagger}$, the resulting state is\n",
    "\n",
    "\\begin{equation*}\n",
    "    \\ket{\\varphi_4} = QFT^{\\dagger} \\ket{\\varphi_3}\n",
    "\\end{equation*}\n",
    "\n",
    "\\begin{equation}\n",
    "\\begin{split}\n",
    "    \\ket{\\varphi_4} = \\frac{1}{\\sqrt{2}}\\left(-\\ket{u_1}\\ket{01} + \\ket{u_2}\\ket{10}\\right)\\ket{0}_a\n",
    "\\end{split}\n",
    "\\end{equation}"
   ]
  },
  {
   "cell_type": "markdown",
   "id": "87734a7a-9ae6-4361-8659-3dd0fda0836f",
   "metadata": {},
   "source": [
    "## Ancilla Quantum Encoding"
   ]
  },
  {
   "cell_type": "markdown",
   "id": "9d35e4d3-4ccd-45a2-80c2-80e3be9742b7",
   "metadata": {},
   "source": [
    "Here, we use controlled rotations based on $R_Y(\\theta)$, which increase the probability of the ancilla qubit being observed in state $\\ket{1}$. Equation \\ref{eq:theta} provides a direct relationship between the decoded eigenvalues and the angles, given by\n",
    "\n",
    "\\begin{equation}\n",
    "    \\theta (\\tilde \\lambda_1) = 2\\arcsin{(1/1)} = \\pi\n",
    "\\end{equation}\n",
    "\n",
    "\\begin{equation}\n",
    "   \\theta (\\tilde \\lambda_2) = 2\\arcsin{(1/2)} = \\pi/3\n",
    "\\end{equation}\n",
    "\n",
    "Similar to the previous step, these angles are substituted into a controlled version of the $R_Y$ gate, as shown below."
   ]
  },
  {
   "cell_type": "code",
   "execution_count": null,
   "id": "86b11527-abab-4ba3-b290-8110a5bc51d7",
   "metadata": {},
   "outputs": [],
   "source": [
    "qc.cry(np.pi, qr_clock1, qr_ancilla[0])\n",
    "qc.cry(np.pi/3, qr_clock2, qr_ancilla[0])\n",
    "qc.barrier()"
   ]
  },
  {
   "cell_type": "markdown",
   "id": "db590423-a39f-4994-a430-ec46ba86c155",
   "metadata": {},
   "source": [
    "Additionally, this is also the stage where the ancilla qubit is measured, with its result stored in the classical register. Considering Eq. \\ref{eq:17}, this step results in\n",
    "\n",
    "\\begin{equation}\n",
    "    \\begin{split}\n",
    "        \\ket{\\varphi_6} &= \\sqrt{\\frac{8}{5}} \\left(-\\frac{1}{\\sqrt{2}}\\ket{u_1}\\ket{01}\\ket{1}_a \\right.\\\\\n",
    "        & \\left. + \\frac{1}{2\\sqrt{2}}\\ket{u_2}\\ket{10}\\ket{1}_a\\right)\n",
    "    \\end{split}\n",
    "\\end{equation}\n",
    "\n",
    "At this stage, we obtain a state close to the expected one, but it cannot be directly measured in the computational basis, as the target state $\\ket{x}$ is entangled with the \\textit{c-qubits}."
   ]
  },
  {
   "cell_type": "markdown",
   "id": "2b067219-0bf9-4d97-bc9c-2a5b3abd66a6",
   "metadata": {},
   "source": [
    "## Inverse Quantum Phase Estimation"
   ]
  },
  {
   "cell_type": "markdown",
   "id": "60946d90-bb85-4622-a3d5-16edd94034dd",
   "metadata": {},
   "source": [
    "Now, we apply $QPE^{\\dagger}$ to enable the correct measurement of $\\ket{x}$ in the computational basis. For this purpose, QFT is applied to encode the information in frequency, as shown in the box below."
   ]
  },
  {
   "cell_type": "code",
   "execution_count": null,
   "id": "3fc0e661-9d6a-4000-8c03-00a90334c3af",
   "metadata": {},
   "outputs": [],
   "source": [
    "qc.swap(qr_clock1, qr_clock2)\n",
    "qc.h(qr_clock1)\n",
    "qc.cp(np.pi/2, qr_clock1, qr_clock2)\n",
    "qc.h(qr_clock2)\n",
    "qc.barrier()\n",
    "qc.measure(qr_ancilla, cl[ancilla:])\n",
    "qc.barrier()"
   ]
  },
  {
   "cell_type": "markdown",
   "id": "9bf363a6-f670-4f8b-8920-09b23868a97f",
   "metadata": {},
   "source": [
    "The resulting state is\n",
    "\n",
    "\\begin{equation}\n",
    "    \\begin{split}\n",
    "        \\ket{\\varphi_7} &= \\sqrt{\\frac{8}{5}}\\left(-\\frac{1}{\\sqrt{2}}\\ket{u_1}\\frac{1}{2}\\left(\\ket{00} + i\\ket{01} - \\ket{10} \n",
    "        \\right. \\right.\\\\\n",
    "        &\\left. -i\\ket{11}\\right)\\ket{1}_a + \\frac{1}{2\\sqrt{2}}\\ket{u_2}\\frac{1}{2}\\left(\\ket{00} - \\ket{01} \\right.\\\\\n",
    "        &\\left. \\left.\n",
    "        + \\ket{10} - \\ket{11}\\right)\\right)\\ket{1}_a\n",
    "    \\end{split}\n",
    "\\end{equation}\n",
    "\n",
    "Next, we apply inverse evolution ($e^{-iAt}$), which restores the initial state. At this point, the inverse matrices can be computed following the same logic as the unitary applications, but considering $U^{-l} = VU_d^{-l}V$. Thus, we obtain\n",
    "\n",
    "\\begin{equation}\n",
    "    U^{-1} = \\begin{pmatrix}\n",
    "    -1-i & 1-i \\\\\n",
    "    1-i &  -1-i \\\\\n",
    "    \\end{pmatrix}\n",
    "\\end{equation}\n",
    "\n",
    "This can be implemented by setting $\\theta = \\pi/2$, $\\phi = \\pi/2$, $\\gamma = -3\\pi/4$, and $\\lambda=-\\pi/2$. Note that $U^2 = U^{-2}$, so we set $\\theta = \\pi$, $\\phi = \\pi$, $\\gamma = 0$, and $\\lambda=0$. These operations are implemented in the box below."
   ]
  },
  {
   "cell_type": "code",
   "execution_count": null,
   "id": "ab6b3846-12ba-4723-ab9a-f940beabbd08",
   "metadata": {},
   "outputs": [],
   "source": [
    "qc.cu(np.pi, np.pi, 0, 0, qr_clock2, qr_b[0])\n",
    "qc.cu(np.pi/2, np.pi/2, -np.pi/2, -3*np.pi/\n",
    ",→4, qr_clock1, qr_b[0])\n",
    "qc.barrier()"
   ]
  },
  {
   "cell_type": "markdown",
   "id": "8ed605e8-2ce4-4df2-9477-335f9f10b08e",
   "metadata": {},
   "source": [
    "For the inverse controlled rotation, the state will be multiplied by $e^{-i\\lambda_jt}$, $e^{-i2\\lambda_jt}$ and $e^{-i3\\lambda_jt}$. Given that $e^{-i\\lambda_1t}=-i$, $e^{-i2\\lambda_1t}=-1$, $e^{-i3\\lambda_1t}=i$ $e^{-i\\lambda_2t}=-1$, $e^{-i2\\lambda_2t}=1$ and $e^{-i3\\lambda_2t}=-1$, we will have the state given by:\n",
    "\n",
    "\\begin{equation}\n",
    "    \\begin{split}\n",
    "        \\ket{\\varphi_8} &= \\sqrt{\\frac{8}{5}}\\left(-\\frac{1}{\\sqrt{2}}\\ket{u_1}\\frac{1}{2}(\\ket{00} + \\ket{01} + \\ket{10} + \\ket{11}\\right)\\ket{1}_a \\\\\n",
    "        &+ \\frac{1}{2\\sqrt{2}}\\ket{u_2}\\frac{1}{2}\\left(\\ket{00} + \\ket{01} + \\ket{10} + \\ket{11}\\right)\\ket{1}_a \\\\\n",
    "        &= \\frac{1}{2}\\sqrt{\\frac{8}{5}}\\left(-\\frac{1}{(1)\\sqrt{2}}\\ket{u_1}\\frac{1}{(2)\\sqrt{2}}\\ket{u_2} \\right)\\left(\\ket{00} +  \\ket{01} \\right.\n",
    "        \\\\ \n",
    "        & \\left. + \\ket{10} + \\ket{11}\\right)\\ket{1}_a \n",
    "    \\end{split}\n",
    "\\end{equation}\n",
    "\n",
    "In the last step, we use the Hadamard gate again, finalizing the circuit with the inversion of the uniformly distributed superposition applied to the clock qubits during the QPE routine, and it should be applied as shown in the box below."
   ]
  },
  {
   "cell_type": "code",
   "execution_count": null,
   "id": "7b9f8175-1739-4c43-9cda-2f34be5d896a",
   "metadata": {},
   "outputs": [],
   "source": [
    "qc.h(qr_clock1)\n",
    "qc.h(qr_clock2)\n",
    "qc.barrier()"
   ]
  },
  {
   "cell_type": "markdown",
   "id": "08da9ba9-9fb0-43a3-be22-4277f6c9bb8c",
   "metadata": {},
   "source": [
    "This results in the state given by:\n",
    "\n",
    "\\begin{equation}\n",
    "        \\ket{\\varphi_9} = \\sqrt{\\frac{8}{5}} \\left( -\\frac{1}{(1)\\sqrt{2}}\\ket{u_1}+\\frac{1}{(2)\\sqrt{2}}\\ket{u_2} \\right) \\ket{00}\\ket{1}_a\n",
    "\\end{equation}\n",
    "\n",
    "After substituting in the computational basis of $\\ket{u_1}=\\frac{1}{\\sqrt{2}}\\ket{0} - \\frac{1}{\\sqrt{2}}\\ket{1}$ e $\\ket{u_2}=\\frac{1}{\\sqrt{2}}\\ket{0} + \\frac{1}{\\sqrt{2}}\\ket{1}$, we will have:\n",
    "\n",
    "\\begin{equation}\n",
    "    \\ket{\\varphi_9} = \\left(-\\frac{\\sqrt{10}}{10}\\ket{0} + \\frac{3\\sqrt{10}}{10}\\ket{1}\\right)\\ket{00}\\ket{1}_a    \n",
    "\\end{equation}"
   ]
  },
  {
   "cell_type": "markdown",
   "id": "cecc012b-cc8a-40ed-8ace-48f360671b3b",
   "metadata": {},
   "source": [
    "## Numerical Results"
   ]
  },
  {
   "cell_type": "markdown",
   "id": "b5932cec-be39-4634-b96d-5632e34e25c1",
   "metadata": {},
   "source": [
    "After compiling the necessary routines for the actual functioning of the algorithm, it is then possible to evaluate the quality of its results. For this, we must choose the architecture used (simulator or real quantum computer) and the number of measurements (shots) to finally plot the probability distribution of the measurement, as shown in the box. In this case, the selected environment was the AerSimulator(), a noise-free simulator based on measurements."
   ]
  },
  {
   "cell_type": "code",
   "execution_count": null,
   "id": "951a0075-2498-477f-8c58-1dd555ba6329",
   "metadata": {},
   "outputs": [],
   "source": [
    "qc.barrier()\n",
    "qc.measure(qr_b, cl[:ancilla])\n",
    "simulator = AerSimulator()\n",
    "new_circuit = transpile(qc, simulator)\n",
    "job = simulator.run(new_circuit, shots =␣\n",
    ",→4096)\n",
    "result = job.result()\n",
    "counts = result.get_counts()\n",
    "total_shots = sum(counts.values())\n",
    "probabilities = {state: count / total_shots␣\n",
    ",→for state, count in counts.items()}\n",
    "plot_distribution = (counts)"
   ]
  },
  {
   "cell_type": "markdown",
   "id": "7e43a8b7-00a9-44af-9df7-983f8ed29cd4",
   "metadata": {},
   "source": [
    "The results should be"
   ]
  },
  {
   "attachments": {
    "0a7c58a1-5cc6-490c-bd51-987593385d1f.png": {
     "image/png": "[encoded data removed]"
    }
   },
   "cell_type": "markdown",
   "id": "c5e43f4b-6aa2-4a12-bacb-ef48f3a679b0",
   "metadata": {},
   "source": [
    "![Grafico HHL (1).png](attachment:0a7c58a1-5cc6-490c-bd51-987593385d1f.png)"
   ]
  },
  {
   "cell_type": "markdown",
   "id": "f1231335-54a7-4476-9e74-0d6d841cac1b",
   "metadata": {},
   "source": [
    "### Generated quantum circuit:"
   ]
  },
  {
   "attachments": {
    "fc9de874-5eee-422e-9718-95aaaf3e3881.png": {
     "image/png": "[encoded data removed]"
    }
   },
   "cell_type": "markdown",
   "id": "78974e19-99e2-4e83-87ac-bdd89f4bac18",
   "metadata": {},
   "source": [
    "![download (5).png](attachment:fc9de874-5eee-422e-9718-95aaaf3e3881.png)"
   ]
  }
 ],
 "metadata": {
  "kernelspec": {
   "display_name": "Python 3 (ipykernel)",
   "language": "python",
   "name": "python3"
  },
  "language_info": {
   "codemirror_mode": {
    "name": "ipython",
    "version": 3
   },
   "file_extension": ".py",
   "mimetype": "text/x-python",
   "name": "python",
   "nbconvert_exporter": "python",
   "pygments_lexer": "ipython3",
   "version": "3.12.9"
  }
 },
 "nbformat": 4,
 "nbformat_minor": 5
}
